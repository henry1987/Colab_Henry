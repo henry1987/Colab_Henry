{
  "nbformat": 4,
  "nbformat_minor": 0,
  "metadata": {
    "colab": {
      "name": "Animation.ipynb",
      "provenance": [],
      "authorship_tag": "ABX9TyNwTYlygHk5RyLtKLrReVmG",
      "include_colab_link": true
    },
    "kernelspec": {
      "name": "python3",
      "display_name": "Python 3"
    }
  },
  "cells": [
    {
      "cell_type": "markdown",
      "metadata": {
        "id": "view-in-github",
        "colab_type": "text"
      },
      "source": [
        "<a href=\"https://colab.research.google.com/github/henry1987/Colab_Henry/blob/main/Animation.ipynb\" target=\"_parent\"><img src=\"https://colab.research.google.com/assets/colab-badge.svg\" alt=\"Open In Colab\"/></a>"
      ]
    },
    {
      "cell_type": "code",
      "metadata": {
        "id": "hKC20WBBJTEI"
      },
      "source": [
        "import pandas as pd\n",
        "import matplotlib.pyplot as plt\n",
        "import matplotlib.animation as animation\n",
        "from matplotlib import style\n",
        "%matplotlib inline"
      ],
      "execution_count": 1,
      "outputs": []
    },
    {
      "cell_type": "code",
      "metadata": {
        "id": "NEt6bvfrL3ZR"
      },
      "source": [
        "style.use('fivethirtyeight')"
      ],
      "execution_count": 2,
      "outputs": []
    },
    {
      "cell_type": "code",
      "metadata": {
        "colab": {
          "base_uri": "https://localhost:8080/",
          "height": 287
        },
        "id": "JdsUUU6PL3k-",
        "outputId": "4ce45ab4-07ef-408d-d72f-1c221b8c06d5"
      },
      "source": [
        "fig = plt.figure()\n",
        "ax1 = fig.add_subplot(2,2,1)\n",
        "ax2 = fig.add_subplot(2,2,2)\n",
        "ax3 = fig.add_subplot(2,2,3)\n",
        "ax4 = fig.add_subplot(2,2,4)"
      ],
      "execution_count": 3,
      "outputs": [
        {
          "output_type": "display_data",
          "data": {
            "image/png": "[encoded data removed]",
            "text/plain": [
              "<Figure size 432x288 with 4 Axes>"
            ]
          },
          "metadata": {
            "tags": []
          }
        }
      ]
    },
    {
      "cell_type": "code",
      "metadata": {
        "id": "YNlJeI2cMIKW"
      },
      "source": [
        "def animate(i):\n",
        "    df = pd.read_csv('Real time stock data.csv')\n",
        "    ys = df.iloc[1:, 2].values\n",
        "    xs = list(range(1, len(ys)+1))\n",
        "    ax1.clear()\n",
        "    ax1.plot(xs, ys)\n",
        "    ax1.set_title('UNITED MICRO ELECTRONICS', fontsize=12)\n",
        "\n",
        "    ys = df.iloc[1:, 3].values\n",
        "    ax2.clear()\n",
        "    ax2.plot(xs, ys)\n",
        "    ax2.set_title('HON HAI PRECISION INDUSTRY', fontsize=12)\n",
        "\n",
        "    ys = df.iloc[1:, 4].values\n",
        "    ax3.clear()\n",
        "    ax3.plot(xs, ys)\n",
        "    ax3.set_title('Taiwan Semiconductor Manufacture', fontsize=12)\n",
        "\n",
        "    ys = df.iloc[1:, 5].values\n",
        "    ax4.clear()\n",
        "    ax4.plot(xs, ys)\n",
        "    ax4.set_title('MEDIATEK INC', fontsize=12)"
      ],
      "execution_count": 4,
      "outputs": []
    },
    {
      "cell_type": "code",
      "metadata": {
        "id": "matYs-A3L3tq"
      },
      "source": [
        "ani = animation.FuncAnimation(fig, animate, interval=1000)\n"
      ],
      "execution_count": 5,
      "outputs": []
    },
    {
      "cell_type": "code",
      "metadata": {
        "colab": {
          "base_uri": "https://localhost:8080/",
          "height": 34
        },
        "id": "qG9t8RchL3xa",
        "outputId": "c631cf46-44ac-4ebe-bde9-de58d73fa7df"
      },
      "source": [
        "plt.tight_layout()\n",
        "plt.show()"
      ],
      "execution_count": 6,
      "outputs": [
        {
          "output_type": "display_data",
          "data": {
            "text/plain": [
              "<Figure size 432x288 with 0 Axes>"
            ]
          },
          "metadata": {
            "tags": []
          }
        }
      ]
    },
    {
      "cell_type": "code",
      "metadata": {
        "id": "xbXx3fP9L31U"
      },
      "source": [
        ""
      ],
      "execution_count": 6,
      "outputs": []
    },
    {
      "cell_type": "code",
      "metadata": {
        "id": "bpFDVsOkL35q"
      },
      "source": [
        ""
      ],
      "execution_count": 6,
      "outputs": []
    }
  ]
}